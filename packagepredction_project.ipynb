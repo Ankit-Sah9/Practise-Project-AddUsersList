{
  "nbformat": 4,
  "nbformat_minor": 0,
  "metadata": {
    "colab": {
      "provenance": [],
      "include_colab_link": true
    },
    "kernelspec": {
      "name": "python3",
      "display_name": "Python 3"
    },
    "language_info": {
      "name": "python"
    }
  },
  "cells": [
    {
      "cell_type": "markdown",
      "metadata": {
        "id": "view-in-github",
        "colab_type": "text"
      },
      "source": [
        "<a href=\"https://colab.research.google.com/github/Ankit-Sah9/Practise-Project-AddUsersList/blob/master/packagepredction_project.ipynb\" target=\"_parent\"><img src=\"https://colab.research.google.com/assets/colab-badge.svg\" alt=\"Open In Colab\"/></a>"
      ]
    },
    {
      "cell_type": "markdown",
      "source": [
        "#Import library"
      ],
      "metadata": {
        "id": "ed0x6lZLFnWu"
      }
    },
    {
      "cell_type": "code",
      "execution_count": null,
      "metadata": {
        "id": "QUqmievMFNz8"
      },
      "outputs": [],
      "source": [
        "import pandas as pd #data manipulation\n",
        "import numpy as np #mathematics\n",
        "import matplotlib.pyplot as plt # data visualization\n",
        "import seaborn as sns # data visualization\n"
      ]
    },
    {
      "cell_type": "markdown",
      "source": [
        "#Import the data"
      ],
      "metadata": {
        "id": "MWO7MFIyG85Q"
      }
    },
    {
      "cell_type": "code",
      "source": [
        "df = pd.read_csv(\"/content/drive/MyDrive/data_science/Student_Performance.csv\")"
      ],
      "metadata": {
        "id": "6sESAPwHG47B"
      },
      "execution_count": 7,
      "outputs": []
    },
    {
      "cell_type": "code",
      "source": [
        "from google.colab import drive\n",
        "drive.mount('/content/drive')"
      ],
      "metadata": {
        "id": "hdmmWIByvE2r",
        "colab": {
          "base_uri": "https://localhost:8080/"
        },
        "outputId": "5d28f620-d284-4f41-f5b8-c839d83a6395"
      },
      "execution_count": 5,
      "outputs": [
        {
          "output_type": "stream",
          "name": "stdout",
          "text": [
            "Mounted at /content/drive\n"
          ]
        }
      ]
    },
    {
      "cell_type": "code",
      "source": [
        "df"
      ],
      "metadata": {
        "id": "k2T7L7PHIUWo"
      },
      "execution_count": null,
      "outputs": []
    },
    {
      "cell_type": "markdown",
      "source": [
        "###find the number of rows and columns"
      ],
      "metadata": {
        "id": "zaHw334sIh5m"
      }
    },
    {
      "cell_type": "code",
      "source": [
        "df.shape"
      ],
      "metadata": {
        "id": "ncubJ_slIVE5"
      },
      "execution_count": null,
      "outputs": []
    },
    {
      "cell_type": "markdown",
      "source": [
        "###find the data from the top"
      ],
      "metadata": {
        "id": "_wkZpZvMI7LQ"
      }
    },
    {
      "cell_type": "code",
      "source": [
        "df.head(2)# by default five rows extract"
      ],
      "metadata": {
        "id": "h_KxlZg_IorV"
      },
      "execution_count": null,
      "outputs": []
    },
    {
      "cell_type": "markdown",
      "source": [
        "###find the rows from bottom"
      ],
      "metadata": {
        "id": "lB9A3-5PJeeB"
      }
    },
    {
      "cell_type": "code",
      "source": [
        "df.tail(4) #by default five rows extract"
      ],
      "metadata": {
        "id": "VQIEPifQJi42"
      },
      "execution_count": null,
      "outputs": []
    },
    {
      "cell_type": "markdown",
      "source": [
        "###Find the number of rows randomly"
      ],
      "metadata": {
        "id": "uiJODJapMzeB"
      }
    },
    {
      "cell_type": "code",
      "source": [
        "df.sample(5)"
      ],
      "metadata": {
        "id": "FQN1BHrZM5Qs"
      },
      "execution_count": null,
      "outputs": []
    },
    {
      "cell_type": "markdown",
      "source": [
        "###find columns only"
      ],
      "metadata": {
        "id": "Zj5JwAqHNOsV"
      }
    },
    {
      "cell_type": "code",
      "source": [
        "df.columns"
      ],
      "metadata": {
        "id": "wgSdX6J2NT7v"
      },
      "execution_count": null,
      "outputs": []
    },
    {
      "cell_type": "markdown",
      "source": [
        "###find the null value in the data frame"
      ],
      "metadata": {
        "id": "pjHmF22gNb2a"
      }
    },
    {
      "cell_type": "code",
      "source": [
        "df.isnull().sum()"
      ],
      "metadata": {
        "id": "1JwUXpePNVPn"
      },
      "execution_count": null,
      "outputs": []
    },
    {
      "cell_type": "markdown",
      "source": [
        "###find the duplicates value"
      ],
      "metadata": {
        "id": "3okjtY3OOWLp"
      }
    },
    {
      "cell_type": "code",
      "source": [
        "df.duplicated().sum()"
      ],
      "metadata": {
        "id": "OrmsjlPrNjmT"
      },
      "execution_count": null,
      "outputs": []
    },
    {
      "cell_type": "markdown",
      "source": [
        "###Drop the duplicate value"
      ],
      "metadata": {
        "id": "egYNEKVIOxxN"
      }
    },
    {
      "cell_type": "code",
      "source": [
        "df.drop_duplicates(inplace = True) #inplace = True means drop the data permanently\n"
      ],
      "metadata": {
        "id": "YZ45Y4_pOc46"
      },
      "execution_count": null,
      "outputs": []
    },
    {
      "cell_type": "code",
      "source": [
        "df.duplicated().sum()"
      ],
      "metadata": {
        "id": "c9KJLOYFPOQv"
      },
      "execution_count": null,
      "outputs": []
    },
    {
      "cell_type": "code",
      "source": [
        "df.columns"
      ],
      "metadata": {
        "id": "vXUJRANoPRAT"
      },
      "execution_count": null,
      "outputs": []
    },
    {
      "cell_type": "code",
      "source": [
        "df[\"Extracurricular Activities\"].unique()"
      ],
      "metadata": {
        "id": "2sVuf_SPPzDx"
      },
      "execution_count": null,
      "outputs": []
    },
    {
      "cell_type": "code",
      "source": [
        "#df['Extracurricular Activities']  = df[\"Extracurricular Activities\"].map({\"Yes\": 1, \"No\": 0})"
      ],
      "metadata": {
        "id": "U6l7m422QA_o"
      },
      "execution_count": null,
      "outputs": []
    },
    {
      "cell_type": "code",
      "source": [
        "df.head()"
      ],
      "metadata": {
        "id": "ws1DNVHXRYld"
      },
      "execution_count": null,
      "outputs": []
    },
    {
      "cell_type": "markdown",
      "source": [
        "#Data Visualization"
      ],
      "metadata": {
        "id": "0s0pSGEOTIA4"
      }
    },
    {
      "cell_type": "markdown",
      "source": [
        "###Exploratory data analysis"
      ],
      "metadata": {
        "id": "hCyVwya-TPC0"
      }
    },
    {
      "cell_type": "markdown",
      "source": [
        "1. Univariate analysis\n",
        "\n",
        "Analysis on single column"
      ],
      "metadata": {
        "id": "JEhtA4HHTXlW"
      }
    },
    {
      "cell_type": "markdown",
      "source": [
        "###Numerical variable"
      ],
      "metadata": {
        "id": "bB8ftyMe3j_c"
      }
    },
    {
      "cell_type": "code",
      "source": [
        "#find outlier\n",
        "sns.boxplot(df['Hours Studied'])\n",
        "plt.show()"
      ],
      "metadata": {
        "id": "scetHMtiRaVm"
      },
      "execution_count": null,
      "outputs": []
    },
    {
      "cell_type": "code",
      "source": [
        "sns.boxplot(df[\"Previous Scores\"])\n",
        "plt.show()"
      ],
      "metadata": {
        "id": "aYoWqSCm20b2"
      },
      "execution_count": null,
      "outputs": []
    },
    {
      "cell_type": "code",
      "source": [
        "sns.histplot(df[\"Previous Scores\"])\n",
        "plt.show()"
      ],
      "metadata": {
        "id": "YF76NBKs2_DZ"
      },
      "execution_count": null,
      "outputs": []
    },
    {
      "cell_type": "code",
      "source": [
        "sns.histplot(df[\"Hours Studied\"])\n",
        "plt.show()"
      ],
      "metadata": {
        "id": "2DrQTk463t4S"
      },
      "execution_count": null,
      "outputs": []
    },
    {
      "cell_type": "code",
      "source": [
        "sns.histplot(df[\"Sample Question Papers Practiced\"])\n",
        "plt.show()"
      ],
      "metadata": {
        "id": "M8lyV8TG4AVN"
      },
      "execution_count": null,
      "outputs": []
    },
    {
      "cell_type": "code",
      "source": [
        "sns.histplot(df['Performance Index'])\n",
        "plt.show()"
      ],
      "metadata": {
        "id": "ycyuJ_3v4HeY"
      },
      "execution_count": null,
      "outputs": []
    },
    {
      "cell_type": "markdown",
      "source": [
        "###categorical data"
      ],
      "metadata": {
        "id": "KCdk92fx4fIG"
      }
    },
    {
      "cell_type": "code",
      "source": [
        "sns.countplot(x = df[\"Extracurricular Activities\"])\n",
        "plt.show()"
      ],
      "metadata": {
        "id": "aQJl3YBo4Zkc"
      },
      "execution_count": null,
      "outputs": []
    },
    {
      "cell_type": "code",
      "source": [
        "plt.pie(x = df[\"Extracurricular Activities\"].value_counts().values,\n",
        "        labels = df[\"Extracurricular Activities\"].value_counts().index, autopct='%1.1f%%')\n",
        "plt.show()"
      ],
      "metadata": {
        "id": "kZg-5kyq5QCp"
      },
      "execution_count": null,
      "outputs": []
    },
    {
      "cell_type": "code",
      "source": [
        "df.columns"
      ],
      "metadata": {
        "id": "1ctqgv3V5fFg"
      },
      "execution_count": null,
      "outputs": []
    },
    {
      "cell_type": "markdown",
      "source": [
        "#Bivariate analysis"
      ],
      "metadata": {
        "id": "odobL7Mo5XIL"
      }
    },
    {
      "cell_type": "code",
      "source": [
        "sns.scatterplot(x = df[\"Hours Studied\"], y = df[\"Performance Index\"])\n",
        "plt.show()"
      ],
      "metadata": {
        "id": "tzAJkEaS5hWB"
      },
      "execution_count": null,
      "outputs": []
    },
    {
      "cell_type": "code",
      "source": [
        "sns.scatterplot(x = df[\"Previous Scores\"], y = df[\"Performance Index\"])\n",
        "plt.show()"
      ],
      "metadata": {
        "id": "3awkoq3B5tzF"
      },
      "execution_count": null,
      "outputs": []
    },
    {
      "cell_type": "code",
      "source": [
        "sns.scatterplot(x = df[\"Sample Question Papers Practiced\"], y = df[\"Performance Index\"])\n",
        "plt.show()"
      ],
      "metadata": {
        "id": "yrTm2pFh7Bj_"
      },
      "execution_count": null,
      "outputs": []
    },
    {
      "cell_type": "code",
      "source": [
        "sns.boxplot(x = df[\"Extracurricular Activities\"], y = df[\"Performance Index\"])\n",
        "plt.show()"
      ],
      "metadata": {
        "id": "J-R6OYp07P7l"
      },
      "execution_count": null,
      "outputs": []
    },
    {
      "cell_type": "code",
      "source": [
        "sns.barplot(x = df[\"Extracurricular Activities\"], y = df[\"Performance Index\"])\n",
        "plt.show()"
      ],
      "metadata": {
        "id": "ih9mBKej76Hn"
      },
      "execution_count": null,
      "outputs": []
    },
    {
      "cell_type": "code",
      "source": [
        "df['Extracurricular Activities'] = df['Extracurricular Activities'].map({'Yes':1, 'No':0})"
      ],
      "metadata": {
        "id": "EFG1dF3N8hPF"
      },
      "execution_count": null,
      "outputs": []
    },
    {
      "cell_type": "code",
      "source": [
        "df"
      ],
      "metadata": {
        "id": "R4xDDCiF8zEa"
      },
      "execution_count": null,
      "outputs": []
    },
    {
      "cell_type": "markdown",
      "source": [
        "###Multivariate analysis"
      ],
      "metadata": {
        "id": "7HCBomj483OU"
      }
    },
    {
      "cell_type": "code",
      "source": [
        "sns.heatmap(df.corr(), annot=True )\n",
        "plt.show()"
      ],
      "metadata": {
        "id": "byxKL_yu8znQ"
      },
      "execution_count": null,
      "outputs": []
    },
    {
      "cell_type": "markdown",
      "source": [
        "In our dataset correlation between Hours studied and previous scores with performance index good, other columns coorelation not good so we not use these columns"
      ],
      "metadata": {
        "id": "9mYQBEir9XCo"
      }
    },
    {
      "cell_type": "markdown",
      "source": [
        "###Find the independent and dependent feature"
      ],
      "metadata": {
        "id": "EDTWyQTR9yzc"
      }
    },
    {
      "cell_type": "code",
      "source": [
        "df.head(2)"
      ],
      "metadata": {
        "id": "txJ52Rjq9-_Y"
      },
      "execution_count": null,
      "outputs": []
    },
    {
      "cell_type": "code",
      "source": [
        "x = df.iloc[:, :2]\n",
        "x"
      ],
      "metadata": {
        "id": "EuOMKEyX9xr-"
      },
      "execution_count": null,
      "outputs": []
    },
    {
      "cell_type": "code",
      "source": [
        "y = df.iloc[:, -1]\n",
        "y"
      ],
      "metadata": {
        "id": "fG6CbBqd-GKI"
      },
      "execution_count": null,
      "outputs": []
    },
    {
      "cell_type": "markdown",
      "source": [
        "###split the data into train and test"
      ],
      "metadata": {
        "id": "xhtng8eL-Rzg"
      }
    },
    {
      "cell_type": "code",
      "source": [
        "from sklearn.model_selection import train_test_split\n",
        "x_train, x_test, y_train, y_test = train_test_split(x, y, test_size = 0.2, random_state = 42)\n",
        "x_train"
      ],
      "metadata": {
        "id": "kikKAqr4-MZQ"
      },
      "execution_count": null,
      "outputs": []
    },
    {
      "cell_type": "markdown",
      "source": [
        "###Import and train the model"
      ],
      "metadata": {
        "id": "tup-efDp-xSx"
      }
    },
    {
      "cell_type": "code",
      "source": [
        "from sklearn.linear_model import LinearRegression\n",
        "model = LinearRegression()\n",
        "model.fit(x_train, y_train)"
      ],
      "metadata": {
        "id": "j1VhQDbD-skR"
      },
      "execution_count": null,
      "outputs": []
    },
    {
      "cell_type": "markdown",
      "source": [
        "###After training model return coefficient and intercept"
      ],
      "metadata": {
        "id": "ZOiYYRVj_HED"
      }
    },
    {
      "cell_type": "code",
      "source": [
        "coefficient = model.coef_\n",
        "intercept = model.intercept_\n",
        "print(coefficient)\n",
        "print(intercept)"
      ],
      "metadata": {
        "id": "aWqhjzar_UyC"
      },
      "execution_count": null,
      "outputs": []
    },
    {
      "cell_type": "code",
      "source": [
        "hour_study = 6\n",
        "previous_score = 86\n",
        "performance = coefficient[0]*hour_study + coefficient[1]*previous_score + intercept\n",
        "print(performance)"
      ],
      "metadata": {
        "id": "nESO4IJJ_jDD"
      },
      "execution_count": null,
      "outputs": []
    },
    {
      "cell_type": "markdown",
      "source": [
        "###prediction the model"
      ],
      "metadata": {
        "id": "HuPXVN2yALZi"
      }
    },
    {
      "cell_type": "code",
      "source": [
        "y_pred = model.predict(x_test)\n",
        "print(y_pred), print(y_test)"
      ],
      "metadata": {
        "id": "afKZa8sEAJoE"
      },
      "execution_count": null,
      "outputs": []
    },
    {
      "cell_type": "markdown",
      "source": [
        "###Find the performance of model"
      ],
      "metadata": {
        "id": "98zNuQ9SAqJ-"
      }
    },
    {
      "cell_type": "code",
      "source": [
        "from sklearn.metrics import r2_score\n",
        "print(r2_score(y_test, y_pred))"
      ],
      "metadata": {
        "id": "c909do65AYHQ"
      },
      "execution_count": null,
      "outputs": []
    },
    {
      "cell_type": "markdown",
      "source": [
        "###Find the error of the model"
      ],
      "metadata": {
        "id": "EpQZS09QA94a"
      }
    },
    {
      "cell_type": "code",
      "source": [
        "from sklearn.metrics import mean_squared_error, mean_absolute_error\n",
        "print(mean_squared_error(y_test, y_pred))\n",
        "print(mean_absolute_error(y_test, y_pred))\n"
      ],
      "metadata": {
        "id": "HBJE1wvdBEQh"
      },
      "execution_count": null,
      "outputs": []
    },
    {
      "cell_type": "code",
      "source": [],
      "metadata": {
        "id": "OwUhtHYEB08k"
      },
      "execution_count": null,
      "outputs": []
    }
  ]
}